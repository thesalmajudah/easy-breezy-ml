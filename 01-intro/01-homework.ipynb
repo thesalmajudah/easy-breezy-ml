{
 "cells": [
  {
   "cell_type": "code",
   "execution_count": 12,
   "id": "7bbd366d-5e13-4db4-b5ab-a7b147166c2d",
   "metadata": {},
   "outputs": [],
   "source": [
    "import pandas as pd\n",
    "import numpy as np"
   ]
  },
  {
   "cell_type": "code",
   "execution_count": 3,
   "id": "737bd743-e41c-48d9-8aef-75fda4c155df",
   "metadata": {},
   "outputs": [],
   "source": [
    "df = pd.read_csv('https://raw.githubusercontent.com/alexeygrigorev/datasets/master/laptops.csv')"
   ]
  },
  {
   "cell_type": "code",
   "execution_count": 4,
   "id": "a9934893-12a2-4014-9f49-03ed4348e485",
   "metadata": {},
   "outputs": [
    {
     "data": {
      "text/html": [
       "<div>\n",
       "<style scoped>\n",
       "    .dataframe tbody tr th:only-of-type {\n",
       "        vertical-align: middle;\n",
       "    }\n",
       "\n",
       "    .dataframe tbody tr th {\n",
       "        vertical-align: top;\n",
       "    }\n",
       "\n",
       "    .dataframe thead th {\n",
       "        text-align: right;\n",
       "    }\n",
       "</style>\n",
       "<table border=\"1\" class=\"dataframe\">\n",
       "  <thead>\n",
       "    <tr style=\"text-align: right;\">\n",
       "      <th></th>\n",
       "      <th>Laptop</th>\n",
       "      <th>Status</th>\n",
       "      <th>Brand</th>\n",
       "      <th>Model</th>\n",
       "      <th>CPU</th>\n",
       "      <th>RAM</th>\n",
       "      <th>Storage</th>\n",
       "      <th>Storage type</th>\n",
       "      <th>GPU</th>\n",
       "      <th>Screen</th>\n",
       "      <th>Touch</th>\n",
       "      <th>Final Price</th>\n",
       "    </tr>\n",
       "  </thead>\n",
       "  <tbody>\n",
       "    <tr>\n",
       "      <th>0</th>\n",
       "      <td>ASUS ExpertBook B1 B1502CBA-EJ0436X Intel Core...</td>\n",
       "      <td>New</td>\n",
       "      <td>Asus</td>\n",
       "      <td>ExpertBook</td>\n",
       "      <td>Intel Core i5</td>\n",
       "      <td>8</td>\n",
       "      <td>512</td>\n",
       "      <td>SSD</td>\n",
       "      <td>NaN</td>\n",
       "      <td>15.6</td>\n",
       "      <td>No</td>\n",
       "      <td>1009.00</td>\n",
       "    </tr>\n",
       "    <tr>\n",
       "      <th>1</th>\n",
       "      <td>Alurin Go Start Intel Celeron N4020/8GB/256GB ...</td>\n",
       "      <td>New</td>\n",
       "      <td>Alurin</td>\n",
       "      <td>Go</td>\n",
       "      <td>Intel Celeron</td>\n",
       "      <td>8</td>\n",
       "      <td>256</td>\n",
       "      <td>SSD</td>\n",
       "      <td>NaN</td>\n",
       "      <td>15.6</td>\n",
       "      <td>No</td>\n",
       "      <td>299.00</td>\n",
       "    </tr>\n",
       "    <tr>\n",
       "      <th>2</th>\n",
       "      <td>ASUS ExpertBook B1 B1502CBA-EJ0424X Intel Core...</td>\n",
       "      <td>New</td>\n",
       "      <td>Asus</td>\n",
       "      <td>ExpertBook</td>\n",
       "      <td>Intel Core i3</td>\n",
       "      <td>8</td>\n",
       "      <td>256</td>\n",
       "      <td>SSD</td>\n",
       "      <td>NaN</td>\n",
       "      <td>15.6</td>\n",
       "      <td>No</td>\n",
       "      <td>789.00</td>\n",
       "    </tr>\n",
       "    <tr>\n",
       "      <th>3</th>\n",
       "      <td>MSI Katana GF66 12UC-082XES Intel Core i7-1270...</td>\n",
       "      <td>New</td>\n",
       "      <td>MSI</td>\n",
       "      <td>Katana</td>\n",
       "      <td>Intel Core i7</td>\n",
       "      <td>16</td>\n",
       "      <td>1000</td>\n",
       "      <td>SSD</td>\n",
       "      <td>RTX 3050</td>\n",
       "      <td>15.6</td>\n",
       "      <td>No</td>\n",
       "      <td>1199.00</td>\n",
       "    </tr>\n",
       "    <tr>\n",
       "      <th>4</th>\n",
       "      <td>HP 15S-FQ5085NS Intel Core i5-1235U/16GB/512GB...</td>\n",
       "      <td>New</td>\n",
       "      <td>HP</td>\n",
       "      <td>15S</td>\n",
       "      <td>Intel Core i5</td>\n",
       "      <td>16</td>\n",
       "      <td>512</td>\n",
       "      <td>SSD</td>\n",
       "      <td>NaN</td>\n",
       "      <td>15.6</td>\n",
       "      <td>No</td>\n",
       "      <td>669.01</td>\n",
       "    </tr>\n",
       "  </tbody>\n",
       "</table>\n",
       "</div>"
      ],
      "text/plain": [
       "                                              Laptop Status   Brand  \\\n",
       "0  ASUS ExpertBook B1 B1502CBA-EJ0436X Intel Core...    New    Asus   \n",
       "1  Alurin Go Start Intel Celeron N4020/8GB/256GB ...    New  Alurin   \n",
       "2  ASUS ExpertBook B1 B1502CBA-EJ0424X Intel Core...    New    Asus   \n",
       "3  MSI Katana GF66 12UC-082XES Intel Core i7-1270...    New     MSI   \n",
       "4  HP 15S-FQ5085NS Intel Core i5-1235U/16GB/512GB...    New      HP   \n",
       "\n",
       "        Model            CPU  RAM  Storage Storage type       GPU  Screen  \\\n",
       "0  ExpertBook  Intel Core i5    8      512          SSD       NaN    15.6   \n",
       "1          Go  Intel Celeron    8      256          SSD       NaN    15.6   \n",
       "2  ExpertBook  Intel Core i3    8      256          SSD       NaN    15.6   \n",
       "3      Katana  Intel Core i7   16     1000          SSD  RTX 3050    15.6   \n",
       "4         15S  Intel Core i5   16      512          SSD       NaN    15.6   \n",
       "\n",
       "  Touch  Final Price  \n",
       "0    No      1009.00  \n",
       "1    No       299.00  \n",
       "2    No       789.00  \n",
       "3    No      1199.00  \n",
       "4    No       669.01  "
      ]
     },
     "execution_count": 4,
     "metadata": {},
     "output_type": "execute_result"
    }
   ],
   "source": [
    "df.head(5)"
   ]
  },
  {
   "cell_type": "code",
   "execution_count": 5,
   "id": "dbe5de22-e50e-4e9a-be43-e6e71d219da6",
   "metadata": {},
   "outputs": [
    {
     "data": {
      "text/plain": [
       "'2.2.2'"
      ]
     },
     "execution_count": 5,
     "metadata": {},
     "output_type": "execute_result"
    }
   ],
   "source": [
    "# Q1\n",
    "\n",
    "pd.__version__"
   ]
  },
  {
   "cell_type": "code",
   "execution_count": 7,
   "id": "59ed7a95-4887-4c79-96d5-2fb500f5a6b2",
   "metadata": {},
   "outputs": [
    {
     "name": "stdout",
     "output_type": "stream",
     "text": [
      "Record Count: 2160\n"
     ]
    }
   ],
   "source": [
    "# Q2\n",
    "\n",
    "record_count = len(df)\n",
    "print(f'Record Count: {record_count}')\n"
   ]
  },
  {
   "cell_type": "code",
   "execution_count": 8,
   "id": "91fa2bdf-7428-4c38-84c3-232780e25647",
   "metadata": {},
   "outputs": [
    {
     "name": "stdout",
     "output_type": "stream",
     "text": [
      "Number of unique laptop brands: 2160\n"
     ]
    }
   ],
   "source": [
    "# Q3\n",
    "\n",
    "num_brands = df['Laptop'].nunique()\n",
    "print(f'Number of unique laptop brands: {num_brands}')\n"
   ]
  },
  {
   "cell_type": "code",
   "execution_count": 9,
   "id": "fe4072c1-1224-4c7b-96ec-bfd1c1eb832b",
   "metadata": {},
   "outputs": [
    {
     "name": "stdout",
     "output_type": "stream",
     "text": [
      "Number of columns with missing values: 3\n"
     ]
    }
   ],
   "source": [
    "# Q4\n",
    "\n",
    "missing_columns = df.isnull().sum()\n",
    "num_missing_columns = (missing_columns > 0).sum()\n",
    "\n",
    "print(f'Number of columns with missing values: {num_missing_columns}')"
   ]
  },
  {
   "cell_type": "code",
   "execution_count": 10,
   "id": "a7893abb-cf57-4fbf-9bd4-afba9a9e2c84",
   "metadata": {},
   "outputs": [
    {
     "name": "stdout",
     "output_type": "stream",
     "text": [
      "The maximum final price of Dell notebooks is: 3936.0\n"
     ]
    }
   ],
   "source": [
    "# Q5\n",
    "\n",
    "dell_notebooks = df[df['Laptop'].str.contains('Dell', case=False, na=False)]\n",
    "max_price_dell = dell_notebooks['Final Price'].max()\n",
    "\n",
    "print(f'The maximum final price of Dell notebooks is: {max_price_dell}')\n"
   ]
  },
  {
   "cell_type": "code",
   "execution_count": 11,
   "id": "5e0d6b27-34c1-421b-ab21-8de846a7d7c7",
   "metadata": {},
   "outputs": [
    {
     "name": "stdout",
     "output_type": "stream",
     "text": [
      "Initial median of 'Screen': 15.6\n",
      "Most frequent value in 'Screen': 15.6\n",
      "Updated median of 'Screen' after filling missing values: 15.6\n",
      "The median has not changed.\n"
     ]
    },
    {
     "name": "stderr",
     "output_type": "stream",
     "text": [
      "/tmp/ipykernel_3321/2055386089.py:12: FutureWarning: A value is trying to be set on a copy of a DataFrame or Series through chained assignment using an inplace method.\n",
      "The behavior will change in pandas 3.0. This inplace method will never work because the intermediate object on which we are setting values always behaves as a copy.\n",
      "\n",
      "For example, when doing 'df[col].method(value, inplace=True)', try using 'df.method({col: value}, inplace=True)' or df[col] = df[col].method(value) instead, to perform the operation inplace on the original object.\n",
      "\n",
      "\n",
      "  df['Screen'].fillna(most_frequent_screen, inplace=True)\n"
     ]
    }
   ],
   "source": [
    "# Q6\n",
    "\n",
    "# 1. Calculate the median value of the Screen column (before filling missing values)\n",
    "initial_median_screen = df['Screen'].median()\n",
    "print(f\"Initial median of 'Screen': {initial_median_screen}\")\n",
    "\n",
    "# 2. Calculate the most frequent value (mode) of the Screen column\n",
    "most_frequent_screen = df['Screen'].mode()[0]  # Mode returns a series, so we take the first value\n",
    "print(f\"Most frequent value in 'Screen': {most_frequent_screen}\")\n",
    "\n",
    "# 3. Fill missing values in the Screen column with the most frequent value\n",
    "df['Screen'].fillna(most_frequent_screen, inplace=True)\n",
    "\n",
    "# 4. Calculate the median value of Screen again after filling missing values\n",
    "updated_median_screen = df['Screen'].median()\n",
    "print(f\"Updated median of 'Screen' after filling missing values: {updated_median_screen}\")\n",
    "\n",
    "# 5. Compare the initial and updated medians\n",
    "if initial_median_screen == updated_median_screen:\n",
    "    print(\"The median has not changed.\")\n",
    "else:\n",
    "    print(\"The median has changed.\")\n"
   ]
  },
  {
   "cell_type": "code",
   "execution_count": 16,
   "id": "b9ecfa89-9830-4038-ab9f-50826c22a1a6",
   "metadata": {},
   "outputs": [
    {
     "name": "stdout",
     "output_type": "stream",
     "text": [
      "Sum of all elements in w: 91.2998806299555\n"
     ]
    }
   ],
   "source": [
    "# Q7\n",
    "\n",
    "# 1. Select all the \"Innjoo\" laptops from the dataset\n",
    "innjoo_laptops = df[df['Laptop'].str.contains('Innjoo', case=False, na=False)]\n",
    "\n",
    "# 2. Select only the columns RAM, Storage, and Screen\n",
    "X = innjoo_laptops[['RAM', 'Storage', 'Screen']].values\n",
    "\n",
    "# 3. Get the underlying NumPy array (already done with .values)\n",
    "\n",
    "# 4. Compute the matrix-matrix multiplication between the transpose of X and X\n",
    "XTX = np.dot(X.T, X)\n",
    "\n",
    "# 5. Compute the inverse of XTX\n",
    "XTX_inv = np.linalg.inv(XTX)\n",
    "\n",
    "# 6. Create an array y with values [1100, 1300, 800, 900, 1000, 1100]\n",
    "y = np.array([1100, 1300, 800, 900, 1000, 1100])\n",
    "\n",
    "# 7. Multiply the inverse of XTX with the transpose of X, then multiply by y\n",
    "w = np.dot(np.dot(XTX_inv, X.T), y)\n",
    "\n",
    "# 8. Compute the sum of all elements in w\n",
    "sum_of_w = np.sum(w)\n",
    "\n",
    "print(f\"Sum of all elements in w: {sum_of_w}\")\n"
   ]
  },
  {
   "cell_type": "code",
   "execution_count": null,
   "id": "7c550408-2d91-4a69-8a85-fbf5e3f4bc7a",
   "metadata": {},
   "outputs": [],
   "source": []
  }
 ],
 "metadata": {
  "kernelspec": {
   "display_name": "Python 3 (ipykernel)",
   "language": "python",
   "name": "python3"
  },
  "language_info": {
   "codemirror_mode": {
    "name": "ipython",
    "version": 3
   },
   "file_extension": ".py",
   "mimetype": "text/x-python",
   "name": "python",
   "nbconvert_exporter": "python",
   "pygments_lexer": "ipython3",
   "version": "3.12.1"
  }
 },
 "nbformat": 4,
 "nbformat_minor": 5
}
