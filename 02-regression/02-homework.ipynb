{
 "cells": [
  {
   "cell_type": "code",
   "execution_count": 1,
   "id": "2c76539b-e67d-4244-9d96-3ad231904fa8",
   "metadata": {},
   "outputs": [],
   "source": [
    "import pandas as pd\n",
    "import numpy as np\n",
    "import seaborn as sns\n",
    "from matplotlib import pyplot as plt\n",
    "%matplotlib inline"
   ]
  },
  {
   "cell_type": "markdown",
   "id": "97cddb5a-aef4-41cc-82a2-132d771d59ec",
   "metadata": {},
   "source": [
    "#### Preparing the Dataset"
   ]
  },
  {
   "cell_type": "code",
   "execution_count": 34,
   "id": "2e2de9f2-304c-4596-a055-2e28c45f5950",
   "metadata": {},
   "outputs": [],
   "source": [
    "df = pd.read_csv('data/laptops.csv')"
   ]
  },
  {
   "cell_type": "code",
   "execution_count": 3,
   "id": "a7785f0d-2087-421d-9fc3-6cd6d8f06fbe",
   "metadata": {},
   "outputs": [
    {
     "data": {
      "text/plain": [
       "2160"
      ]
     },
     "execution_count": 3,
     "metadata": {},
     "output_type": "execute_result"
    }
   ],
   "source": [
    "len(df)"
   ]
  },
  {
   "cell_type": "code",
   "execution_count": 36,
   "id": "90bdbe9b-0fa2-4595-bebb-93b5d0cf73bf",
   "metadata": {},
   "outputs": [
    {
     "data": {
      "text/html": [
       "<div>\n",
       "<style scoped>\n",
       "    .dataframe tbody tr th:only-of-type {\n",
       "        vertical-align: middle;\n",
       "    }\n",
       "\n",
       "    .dataframe tbody tr th {\n",
       "        vertical-align: top;\n",
       "    }\n",
       "\n",
       "    .dataframe thead th {\n",
       "        text-align: right;\n",
       "    }\n",
       "</style>\n",
       "<table border=\"1\" class=\"dataframe\">\n",
       "  <thead>\n",
       "    <tr style=\"text-align: right;\">\n",
       "      <th></th>\n",
       "      <th>Laptop</th>\n",
       "      <th>Status</th>\n",
       "      <th>Brand</th>\n",
       "      <th>Model</th>\n",
       "      <th>CPU</th>\n",
       "      <th>RAM</th>\n",
       "      <th>Storage</th>\n",
       "      <th>Storage type</th>\n",
       "      <th>GPU</th>\n",
       "      <th>Screen</th>\n",
       "      <th>Touch</th>\n",
       "      <th>Final Price</th>\n",
       "    </tr>\n",
       "  </thead>\n",
       "  <tbody>\n",
       "    <tr>\n",
       "      <th>0</th>\n",
       "      <td>ASUS ExpertBook B1 B1502CBA-EJ0436X Intel Core...</td>\n",
       "      <td>New</td>\n",
       "      <td>Asus</td>\n",
       "      <td>ExpertBook</td>\n",
       "      <td>Intel Core i5</td>\n",
       "      <td>8</td>\n",
       "      <td>512</td>\n",
       "      <td>SSD</td>\n",
       "      <td>NaN</td>\n",
       "      <td>15.6</td>\n",
       "      <td>No</td>\n",
       "      <td>1009.00</td>\n",
       "    </tr>\n",
       "    <tr>\n",
       "      <th>1</th>\n",
       "      <td>Alurin Go Start Intel Celeron N4020/8GB/256GB ...</td>\n",
       "      <td>New</td>\n",
       "      <td>Alurin</td>\n",
       "      <td>Go</td>\n",
       "      <td>Intel Celeron</td>\n",
       "      <td>8</td>\n",
       "      <td>256</td>\n",
       "      <td>SSD</td>\n",
       "      <td>NaN</td>\n",
       "      <td>15.6</td>\n",
       "      <td>No</td>\n",
       "      <td>299.00</td>\n",
       "    </tr>\n",
       "    <tr>\n",
       "      <th>2</th>\n",
       "      <td>ASUS ExpertBook B1 B1502CBA-EJ0424X Intel Core...</td>\n",
       "      <td>New</td>\n",
       "      <td>Asus</td>\n",
       "      <td>ExpertBook</td>\n",
       "      <td>Intel Core i3</td>\n",
       "      <td>8</td>\n",
       "      <td>256</td>\n",
       "      <td>SSD</td>\n",
       "      <td>NaN</td>\n",
       "      <td>15.6</td>\n",
       "      <td>No</td>\n",
       "      <td>789.00</td>\n",
       "    </tr>\n",
       "    <tr>\n",
       "      <th>3</th>\n",
       "      <td>MSI Katana GF66 12UC-082XES Intel Core i7-1270...</td>\n",
       "      <td>New</td>\n",
       "      <td>MSI</td>\n",
       "      <td>Katana</td>\n",
       "      <td>Intel Core i7</td>\n",
       "      <td>16</td>\n",
       "      <td>1000</td>\n",
       "      <td>SSD</td>\n",
       "      <td>RTX 3050</td>\n",
       "      <td>15.6</td>\n",
       "      <td>No</td>\n",
       "      <td>1199.00</td>\n",
       "    </tr>\n",
       "    <tr>\n",
       "      <th>4</th>\n",
       "      <td>HP 15S-FQ5085NS Intel Core i5-1235U/16GB/512GB...</td>\n",
       "      <td>New</td>\n",
       "      <td>HP</td>\n",
       "      <td>15S</td>\n",
       "      <td>Intel Core i5</td>\n",
       "      <td>16</td>\n",
       "      <td>512</td>\n",
       "      <td>SSD</td>\n",
       "      <td>NaN</td>\n",
       "      <td>15.6</td>\n",
       "      <td>No</td>\n",
       "      <td>669.01</td>\n",
       "    </tr>\n",
       "  </tbody>\n",
       "</table>\n",
       "</div>"
      ],
      "text/plain": [
       "                                              Laptop Status   Brand  \\\n",
       "0  ASUS ExpertBook B1 B1502CBA-EJ0436X Intel Core...    New    Asus   \n",
       "1  Alurin Go Start Intel Celeron N4020/8GB/256GB ...    New  Alurin   \n",
       "2  ASUS ExpertBook B1 B1502CBA-EJ0424X Intel Core...    New    Asus   \n",
       "3  MSI Katana GF66 12UC-082XES Intel Core i7-1270...    New     MSI   \n",
       "4  HP 15S-FQ5085NS Intel Core i5-1235U/16GB/512GB...    New      HP   \n",
       "\n",
       "        Model            CPU  RAM  Storage Storage type       GPU  Screen  \\\n",
       "0  ExpertBook  Intel Core i5    8      512          SSD       NaN    15.6   \n",
       "1          Go  Intel Celeron    8      256          SSD       NaN    15.6   \n",
       "2  ExpertBook  Intel Core i3    8      256          SSD       NaN    15.6   \n",
       "3      Katana  Intel Core i7   16     1000          SSD  RTX 3050    15.6   \n",
       "4         15S  Intel Core i5   16      512          SSD       NaN    15.6   \n",
       "\n",
       "  Touch  Final Price  \n",
       "0    No      1009.00  \n",
       "1    No       299.00  \n",
       "2    No       789.00  \n",
       "3    No      1199.00  \n",
       "4    No       669.01  "
      ]
     },
     "execution_count": 36,
     "metadata": {},
     "output_type": "execute_result"
    }
   ],
   "source": [
    "df.head()"
   ]
  },
  {
   "cell_type": "code",
   "execution_count": 37,
   "id": "58b19589-a81a-437e-b90c-66747fef4863",
   "metadata": {},
   "outputs": [],
   "source": [
    "df.columns = df.columns.str.lower().str.replace(' ', '_')"
   ]
  },
  {
   "cell_type": "code",
   "execution_count": 38,
   "id": "f2c4b971-47c4-4463-a94e-983dcd3260e8",
   "metadata": {},
   "outputs": [
    {
     "data": {
      "text/plain": [
       "Index(['laptop', 'status', 'brand', 'model', 'cpu', 'ram', 'storage',\n",
       "       'storage_type', 'gpu', 'screen', 'touch', 'final_price'],\n",
       "      dtype='object')"
      ]
     },
     "execution_count": 38,
     "metadata": {},
     "output_type": "execute_result"
    }
   ],
   "source": [
    "df.columns"
   ]
  },
  {
   "cell_type": "code",
   "execution_count": 7,
   "id": "da97545d-9854-4219-b830-f58c86a77d7a",
   "metadata": {},
   "outputs": [],
   "source": [
    "input_df = [\"ram\", \"storage\", \"screen\", \"final_price\"]"
   ]
  },
  {
   "cell_type": "markdown",
   "id": "2e60f9f8-19d4-4b1c-a81a-b561918b346e",
   "metadata": {},
   "source": [
    "#### Exploratory Data Analysis (EDA)\n"
   ]
  },
  {
   "cell_type": "code",
   "execution_count": 8,
   "id": "176c878a-4647-4804-9214-8f57cd6b5ee3",
   "metadata": {},
   "outputs": [
    {
     "data": {
      "image/png": "[encoded data removed]",
      "text/plain": [
       "<Figure size 600x400 with 1 Axes>"
      ]
     },
     "metadata": {},
     "output_type": "display_data"
    }
   ],
   "source": [
    "plt.figure(figsize=(6, 4))\n",
    "\n",
    "sns.histplot(df.final_price, bins=40, color='black', alpha=1)\n",
    "plt.ylabel('Frequency')\n",
    "plt.xlabel('Price')\n",
    "plt.title('Distribution of prices')\n",
    "\n",
    "plt.show()"
   ]
  },
  {
   "cell_type": "code",
   "execution_count": 39,
   "id": "5062755f-0c50-4fc3-a024-5c488dabc0af",
   "metadata": {},
   "outputs": [
    {
     "data": {
      "text/html": [
       "<div>\n",
       "<style scoped>\n",
       "    .dataframe tbody tr th:only-of-type {\n",
       "        vertical-align: middle;\n",
       "    }\n",
       "\n",
       "    .dataframe tbody tr th {\n",
       "        vertical-align: top;\n",
       "    }\n",
       "\n",
       "    .dataframe thead th {\n",
       "        text-align: right;\n",
       "    }\n",
       "</style>\n",
       "<table border=\"1\" class=\"dataframe\">\n",
       "  <thead>\n",
       "    <tr style=\"text-align: right;\">\n",
       "      <th></th>\n",
       "      <th>laptop</th>\n",
       "      <th>status</th>\n",
       "      <th>brand</th>\n",
       "      <th>model</th>\n",
       "      <th>cpu</th>\n",
       "      <th>ram</th>\n",
       "      <th>storage</th>\n",
       "      <th>storage_type</th>\n",
       "      <th>gpu</th>\n",
       "      <th>screen</th>\n",
       "      <th>touch</th>\n",
       "      <th>final_price</th>\n",
       "    </tr>\n",
       "  </thead>\n",
       "  <tbody>\n",
       "    <tr>\n",
       "      <th>1511</th>\n",
       "      <td>Lenovo Legion PRO 7 16IRX8H-566 Intel Core i9-...</td>\n",
       "      <td>New</td>\n",
       "      <td>Lenovo</td>\n",
       "      <td>Legion</td>\n",
       "      <td>Intel Core i9</td>\n",
       "      <td>32</td>\n",
       "      <td>1000</td>\n",
       "      <td>SSD</td>\n",
       "      <td>RTX 4080</td>\n",
       "      <td>16.0</td>\n",
       "      <td>No</td>\n",
       "      <td>5018.14</td>\n",
       "    </tr>\n",
       "    <tr>\n",
       "      <th>495</th>\n",
       "      <td>ASUS ROG Zephyrus Duo 16 2023 GX650PY-NM003W A...</td>\n",
       "      <td>New</td>\n",
       "      <td>Asus</td>\n",
       "      <td>ROG</td>\n",
       "      <td>AMD Ryzen 9</td>\n",
       "      <td>64</td>\n",
       "      <td>2000</td>\n",
       "      <td>SSD</td>\n",
       "      <td>RTX 4090</td>\n",
       "      <td>16.0</td>\n",
       "      <td>No</td>\n",
       "      <td>5159.00</td>\n",
       "    </tr>\n",
       "    <tr>\n",
       "      <th>952</th>\n",
       "      <td>MSI Raider GE78HX 13VI-063ES Intel Core i9-139...</td>\n",
       "      <td>New</td>\n",
       "      <td>MSI</td>\n",
       "      <td>Raider</td>\n",
       "      <td>Intel Core i9</td>\n",
       "      <td>64</td>\n",
       "      <td>2000</td>\n",
       "      <td>SSD</td>\n",
       "      <td>RTX 4090</td>\n",
       "      <td>17.0</td>\n",
       "      <td>No</td>\n",
       "      <td>5199.00</td>\n",
       "    </tr>\n",
       "    <tr>\n",
       "      <th>1475</th>\n",
       "      <td>HP ZBook Studio G8 Intel Core i7-11850H/16GB/5...</td>\n",
       "      <td>New</td>\n",
       "      <td>HP</td>\n",
       "      <td>Zbook</td>\n",
       "      <td>Intel Core i7</td>\n",
       "      <td>16</td>\n",
       "      <td>512</td>\n",
       "      <td>SSD</td>\n",
       "      <td>RTX A3000</td>\n",
       "      <td>15.6</td>\n",
       "      <td>No</td>\n",
       "      <td>5368.77</td>\n",
       "    </tr>\n",
       "    <tr>\n",
       "      <th>1245</th>\n",
       "      <td>ASUS ROG Strix Scar 17  G733PY-R97B49PB1 AMD R...</td>\n",
       "      <td>New</td>\n",
       "      <td>Asus</td>\n",
       "      <td>ROG</td>\n",
       "      <td>AMD Radeon 9</td>\n",
       "      <td>32</td>\n",
       "      <td>2000</td>\n",
       "      <td>SSD</td>\n",
       "      <td>RTX 4090</td>\n",
       "      <td>17.3</td>\n",
       "      <td>No</td>\n",
       "      <td>5630.90</td>\n",
       "    </tr>\n",
       "  </tbody>\n",
       "</table>\n",
       "</div>"
      ],
      "text/plain": [
       "                                                 laptop status   brand  \\\n",
       "1511  Lenovo Legion PRO 7 16IRX8H-566 Intel Core i9-...    New  Lenovo   \n",
       "495   ASUS ROG Zephyrus Duo 16 2023 GX650PY-NM003W A...    New    Asus   \n",
       "952   MSI Raider GE78HX 13VI-063ES Intel Core i9-139...    New     MSI   \n",
       "1475  HP ZBook Studio G8 Intel Core i7-11850H/16GB/5...    New      HP   \n",
       "1245  ASUS ROG Strix Scar 17  G733PY-R97B49PB1 AMD R...    New    Asus   \n",
       "\n",
       "       model            cpu  ram  storage storage_type        gpu  screen  \\\n",
       "1511  Legion  Intel Core i9   32     1000          SSD   RTX 4080    16.0   \n",
       "495      ROG    AMD Ryzen 9   64     2000          SSD   RTX 4090    16.0   \n",
       "952   Raider  Intel Core i9   64     2000          SSD   RTX 4090    17.0   \n",
       "1475   Zbook  Intel Core i7   16      512          SSD  RTX A3000    15.6   \n",
       "1245     ROG   AMD Radeon 9   32     2000          SSD   RTX 4090    17.3   \n",
       "\n",
       "     touch  final_price  \n",
       "1511    No      5018.14  \n",
       "495     No      5159.00  \n",
       "952     No      5199.00  \n",
       "1475    No      5368.77  \n",
       "1245    No      5630.90  "
      ]
     },
     "execution_count": 39,
     "metadata": {},
     "output_type": "execute_result"
    }
   ],
   "source": [
    "# Find laptops with price greater than 5000\n",
    "expensive_laptops = df[df['final_price'] > 5000].sort_values(by='final_price', ascending=True)\n",
    "expensive_laptops.head()"
   ]
  },
  {
   "cell_type": "code",
   "execution_count": 10,
   "id": "ec2ab467-4197-443b-9948-5e8168b2d027",
   "metadata": {},
   "outputs": [
    {
     "data": {
      "image/png": "[encoded data removed]",
      "text/plain": [
       "<Figure size 600x400 with 1 Axes>"
      ]
     },
     "metadata": {},
     "output_type": "display_data"
    }
   ],
   "source": [
    "log_price = np.log1p(df.final_price)\n",
    "\n",
    "plt.figure(figsize=(6, 4))\n",
    "\n",
    "sns.histplot(log_price, bins=40, color='black', alpha=1)\n",
    "plt.ylabel('Frequency')\n",
    "plt.xlabel('Log(Price + 1)')\n",
    "plt.title('Distribution of prices after log tranformation')\n",
    "\n",
    "plt.show()"
   ]
  },
  {
   "cell_type": "code",
   "execution_count": 11,
   "id": "e3d44f5e-0c43-4d21-9574-a262bb0162c3",
   "metadata": {},
   "outputs": [
    {
     "data": {
      "text/plain": [
       "laptop           object\n",
       "status           object\n",
       "brand            object\n",
       "model            object\n",
       "cpu              object\n",
       "ram               int64\n",
       "storage           int64\n",
       "storage_type     object\n",
       "gpu              object\n",
       "screen          float64\n",
       "touch            object\n",
       "final_price     float64\n",
       "dtype: object"
      ]
     },
     "execution_count": 11,
     "metadata": {},
     "output_type": "execute_result"
    }
   ],
   "source": [
    "df.dtypes"
   ]
  },
  {
   "cell_type": "code",
   "execution_count": 12,
   "id": "76e3d791-7218-4bc3-8e56-8e46dde5b72d",
   "metadata": {},
   "outputs": [
    {
     "name": "stdout",
     "output_type": "stream",
     "text": [
      "<class 'pandas.core.frame.DataFrame'>\n",
      "RangeIndex: 2160 entries, 0 to 2159\n",
      "Data columns (total 12 columns):\n",
      " #   Column        Non-Null Count  Dtype  \n",
      "---  ------        --------------  -----  \n",
      " 0   laptop        2160 non-null   object \n",
      " 1   status        2160 non-null   object \n",
      " 2   brand         2160 non-null   object \n",
      " 3   model         2160 non-null   object \n",
      " 4   cpu           2160 non-null   object \n",
      " 5   ram           2160 non-null   int64  \n",
      " 6   storage       2160 non-null   int64  \n",
      " 7   storage_type  2118 non-null   object \n",
      " 8   gpu           789 non-null    object \n",
      " 9   screen        2156 non-null   float64\n",
      " 10  touch         2160 non-null   object \n",
      " 11  final_price   2160 non-null   float64\n",
      "dtypes: float64(2), int64(2), object(8)\n",
      "memory usage: 202.6+ KB\n"
     ]
    }
   ],
   "source": [
    "df.info()"
   ]
  },
  {
   "cell_type": "code",
   "execution_count": 89,
   "id": "2ec38e90-bb2c-4949-b6ec-857702cc3eac",
   "metadata": {},
   "outputs": [
    {
     "name": "stdout",
     "output_type": "stream",
     "text": [
      "ram\n",
      "0\n",
      "storage\n",
      "0\n",
      "screen\n",
      "4\n",
      "final_price\n",
      "0\n"
     ]
    }
   ],
   "source": [
    "## Question 1. Missing Values\n",
    "\n",
    "for col in input_df:\n",
    "    print(col)\n",
    "    print(df[col].isna().sum())"
   ]
  },
  {
   "cell_type": "code",
   "execution_count": 90,
   "id": "b33d7727-b0ae-4925-a1f7-5e0b38d10d15",
   "metadata": {},
   "outputs": [
    {
     "data": {
      "text/plain": [
       "np.float64(16.0)"
      ]
     },
     "execution_count": 90,
     "metadata": {},
     "output_type": "execute_result"
    }
   ],
   "source": [
    "## Question 2. Median for Ram\n",
    "\n",
    "df['ram'].median()"
   ]
  },
  {
   "cell_type": "markdown",
   "id": "021e2edb-ff24-41af-b722-4ddd25ae1aa2",
   "metadata": {},
   "source": [
    "#### Validation Framework"
   ]
  },
  {
   "cell_type": "code",
   "execution_count": 42,
   "id": "1d5d4a61-3436-4ee5-b554-6742f584bd7f",
   "metadata": {},
   "outputs": [
    {
     "name": "stdout",
     "output_type": "stream",
     "text": [
      "1296 432 432\n"
     ]
    }
   ],
   "source": [
    "n = len(df)\n",
    "\n",
    "n_val = int(0.2 * n)\n",
    "n_test = int(0.2 * n)\n",
    "n_train = n - (n_val + n_test)\n",
    "\n",
    "print(n_train, n_val, n_test)"
   ]
  },
  {
   "cell_type": "code",
   "execution_count": 43,
   "id": "a22c67c4-2968-42ae-a287-2963ee3ea90f",
   "metadata": {},
   "outputs": [],
   "source": [
    "np.random.seed(42)\n",
    "\n",
    "idx = np.arange(n)\n",
    "np.random.shuffle(idx)\n",
    "\n",
    "df_shuffled = df.iloc[idx]\n",
    "\n",
    "df_train = df_shuffled.iloc[:n_train].copy()\n",
    "df_val = df_shuffled.iloc[n_train:n_train+n_val].copy()\n",
    "df_test = df_shuffled.iloc[n_train+n_val:].copy()"
   ]
  },
  {
   "cell_type": "code",
   "execution_count": 47,
   "id": "1610dc2d-2291-40fa-abd4-6d00a9b6ba63",
   "metadata": {},
   "outputs": [],
   "source": [
    "y_train_orig = df_train.final_price.values\n",
    "y_val_orig = df_val.final_price.values\n",
    "y_test_orig = df_test.final_price.values\n",
    "\n",
    "y_train = np.log1p(df_train.final_price.values)\n",
    "y_val = np.log1p(df_val.final_price.values)\n",
    "y_test = np.log1p(df_test.final_price.values)\n",
    "\n",
    "del df_train['final_price']\n",
    "del df_val['final_price']\n",
    "del df_test['final_price']"
   ]
  },
  {
   "cell_type": "markdown",
   "id": "30ec16d5-697b-421f-bd95-85aba74b70ee",
   "metadata": {},
   "source": [
    "#### Linear Regression"
   ]
  },
  {
   "cell_type": "code",
   "execution_count": 132,
   "id": "08f12ade-60fe-4037-a702-bccc7927bd00",
   "metadata": {},
   "outputs": [],
   "source": [
    "def linear_regression(X, y):\n",
    "    # adding ones in the dataset X\n",
    "    X_0 = np.ones(X.shape[0])\n",
    "    X = np.column_stack([X_0, X])\n",
    "\n",
    "    XTX = X.T.dot(X)\n",
    "    XTX_inverse = np.linalg.inv(XTX)\n",
    "    w = XTX_inverse.dot(X.T).dot(y)\n",
    "\n",
    "    return w[0], w[1:]"
   ]
  },
  {
   "cell_type": "code",
   "execution_count": 133,
   "id": "e1d68616-31ab-489f-94e3-d0b3773a15b7",
   "metadata": {},
   "outputs": [],
   "source": [
    "def rmse(y, y_pred):\n",
    "    error = y_pred - y\n",
    "    mse = (error ** 2).mean()\n",
    "    return np.sqrt(mse)"
   ]
  },
  {
   "cell_type": "markdown",
   "id": "b769f5e6-9308-456b-836e-0d43593dc919",
   "metadata": {},
   "source": [
    "#### Baseline Solution"
   ]
  },
  {
   "cell_type": "code",
   "execution_count": 134,
   "id": "9edff4ba-6bc9-46b9-a916-85f1b80777cc",
   "metadata": {},
   "outputs": [],
   "source": [
    "base = ['ram', 'storage', 'screen']"
   ]
  },
  {
   "cell_type": "code",
   "execution_count": 135,
   "id": "07fb6065-54a1-42b1-8868-a6e6e55a5293",
   "metadata": {},
   "outputs": [],
   "source": [
    "# Question 3. Filling NAs\n",
    "\n",
    "def handle_nan(df, y, fill_value):\n",
    "    \"\"\"\n",
    "    This function trains a linear regression model after filling missing values in the 'screen' column.\n",
    "    \n",
    "    Parameters:\n",
    "    - df: DataFrame containing the training data.\n",
    "    - y: Array of target values.\n",
    "    - fill_value: Value to fill the missing entries in the 'screen' column.\n",
    "\n",
    "    Returns:\n",
    "    - w0: Bias term of the model.\n",
    "    - w: Coefficients of the model.\n",
    "    \"\"\"\n",
    "    # Create a copy of the DataFrame to avoid modifying the original\n",
    "    df_filled = df.copy()\n",
    "    \n",
    "    # Fill missing values in the 'screen' column with the specified fill value\n",
    "    df_filled['screen'] = df_filled['screen'].fillna(fill_value)\n",
    "\n",
    "    # Train the linear regression model\n",
    "    w0, w = linear_regression(df_filled[base], y)\n",
    "    return w0, w"
   ]
  },
  {
   "cell_type": "code",
   "execution_count": 101,
   "id": "b1658d76-8816-4e93-ad51-86b73bdf2bfc",
   "metadata": {},
   "outputs": [
    {
     "name": "stdout",
     "output_type": "stream",
     "text": [
      "RMSE with zeros: 0.45\n",
      "RMSE with mean: 0.45\n"
     ]
    }
   ],
   "source": [
    "# Step 1: Calculate the mean to fill the missing values\n",
    "mean_to_fill = df_train['screen'].mean()\n",
    "\n",
    "# Step 2: Handle missing values with zeros and mean\n",
    "w0_zero, w_zero = handle_nan(df_train, y_train, 0)  # Fill with 0\n",
    "w0_mean, w_mean = handle_nan(df_train, y_train, mean_to_fill)  # Fill with mean\n",
    "\n",
    "# Step 3: Predictions for zero-filled and mean-filled data\n",
    "y_pred_zero = w0_zero + df_filled_zero[base].dot(w_zero)\n",
    "y_pred_mean = w0_mean + df_filled_mean[base].dot(w_mean)\n",
    "\n",
    "# Step 4: Calculate RMSE for both strategies\n",
    "rmse_zero = rmse(y_train, y_pred_zero)\n",
    "rmse_mean = rmse(y_train, y_pred_mean)\n",
    "\n",
    "# Print results\n",
    "print(\"RMSE with zeros:\", round(rmse_zero, 2))\n",
    "print(\"RMSE with mean:\", round(rmse_mean, 2))"
   ]
  },
  {
   "cell_type": "code",
   "execution_count": 136,
   "id": "c24505b5-8d13-4a81-bbb1-d0a88b89e46c",
   "metadata": {},
   "outputs": [],
   "source": [
    "#Question 4. Regularization\n",
    "\n",
    "# Regularized linear regression function\n",
    "def regularized_linear_regression(X, y, r):\n",
    "    # Adding a bias term\n",
    "    X_0 = np.ones(X.shape[0])\n",
    "    X = np.column_stack([X_0, X])\n",
    "\n",
    "    # Regularization term (Ridge Regression)\n",
    "    identity_matrix = np.eye(X.shape[1])  # Create identity matrix for the regularization\n",
    "    identity_matrix[0, 0] = 0  # Don't regularize the bias term\n",
    "\n",
    "    # Normal equation for regularized linear regression\n",
    "    XTX = X.T.dot(X) + r * identity_matrix\n",
    "    XTX_inverse = np.linalg.inv(XTX)\n",
    "    w = XTX_inverse.dot(X.T).dot(y)\n",
    "\n",
    "    return w"
   ]
  },
  {
   "cell_type": "code",
   "execution_count": 137,
   "id": "72d73466-5c1f-44df-ac0d-d923d6408620",
   "metadata": {
    "scrolled": true
   },
   "outputs": [
    {
     "name": "stdout",
     "output_type": "stream",
     "text": [
      "RMSE for r = 0: 0.41\n",
      "RMSE for r = 0.01: 0.41\n",
      "RMSE for r = 0.1: 0.41\n",
      "RMSE for r = 1: 0.41\n",
      "RMSE for r = 5: 0.41\n",
      "RMSE for r = 10: 0.41\n",
      "RMSE for r = 100: 0.41\n",
      "The best r value is: 0 with an RMSE of: 0.41\n"
     ]
    }
   ],
   "source": [
    "# Step 1: Fill NAs with 0\n",
    "df_train.fillna(0, inplace=True)\n",
    "df_val.fillna(0, inplace=True)\n",
    "\n",
    "# Step 2: Evaluate different values of r\n",
    "r_values = [0, 0.01, 0.1, 1, 5, 10, 100]\n",
    "best_r = None\n",
    "best_rmse = float('inf')\n",
    "\n",
    "for r in r_values:\n",
    "    # Train the model using regularized linear regression\n",
    "    w = regularized_linear_regression(df_train[base], y_train, r)\n",
    "\n",
    "    # Make predictions on the validation set\n",
    "    y_pred_val = w[0] + df_val[base].dot(w[1:])\n",
    "\n",
    "    # Calculate RMSE for the validation set\n",
    "    rmse_val = rmse(y_val, y_pred_val)\n",
    "\n",
    "    # Round RMSE to 2 decimal places\n",
    "    rmse_val_rounded = round(rmse_val, 2)\n",
    "    print(f\"RMSE for r = {r}: {rmse_val_rounded}\")\n",
    "\n",
    "    # Determine if this is the best RMSE\n",
    "    if rmse_val_rounded < best_rmse:\n",
    "        best_rmse = rmse_val_rounded\n",
    "        best_r = r\n",
    "    elif rmse_val_rounded == best_rmse and r < best_r:\n",
    "        best_r = r\n",
    "\n",
    "# Step 3: Print the best r\n",
    "print(f\"The best r value is: {best_r} with an RMSE of: {best_rmse}\")\n"
   ]
  },
  {
   "cell_type": "code",
   "execution_count": null,
   "id": "07de925b-49cb-45ff-aba6-2c98191a2c8e",
   "metadata": {},
   "outputs": [],
   "source": [
    "#Question 5. RMSE Spread\n",
    "\n",
    "base = ['ram', 'screen', 'storage']\n",
    "target = 'final_price'"
   ]
  },
  {
   "cell_type": "code",
   "execution_count": 127,
   "id": "4e3fd794-adaf-4ef3-81ff-1746f6bb9c4e",
   "metadata": {},
   "outputs": [
    {
     "name": "stdout",
     "output_type": "stream",
     "text": [
      "Standard deviation of RMSE scores: 29.176\n"
     ]
    }
   ],
   "source": [
    "# List of seeds to try\n",
    "seeds = [0, 1, 2, 3, 4, 5, 6, 7, 8, 9]\n",
    "\n",
    "# To store RMSE scores\n",
    "rmse_scores = []\n",
    "\n",
    "for seed in seeds:\n",
    "    # Step 1: Split the data (60% train, 20% val, 20% test)\n",
    "    n = len(df)\n",
    "    n_train = int(0.6 * n)\n",
    "    n_val = int(0.2 * n)\n",
    "    n_test = n - (n_train + n_val)\n",
    "\n",
    "    np.random.seed(seed)\n",
    "    idx = np.arange(n)\n",
    "    np.random.shuffle(idx)\n",
    "\n",
    "    df_shuffled = df.iloc[idx]\n",
    "    \n",
    "    df_train = df_shuffled.iloc[:n_train].copy()  # Create a copy\n",
    "    df_val = df_shuffled.iloc[n_train:n_train+n_val].copy()  # Create a copy\n",
    "    df_test = df_shuffled.iloc[n_train+n_val:].copy()  # Create a copy\n",
    "\n",
    "    # Step 2: Fill missing values with 0\n",
    "    df_train.fillna(0, inplace=True)  # Safe since it's a copy\n",
    "    df_val.fillna(0, inplace=True)  # Safe since it's a copy\n",
    "\n",
    "    # Train model\n",
    "    w = linear_regression(df_train[base], df_train[target])\n",
    "\n",
    "    # Step 3: Make predictions on validation set\n",
    "    y_pred_val = w[0] + df_val[base].dot(w[1:])\n",
    "\n",
    "    # Step 4: Calculate RMSE\n",
    "    score = rmse(df_val[target], y_pred_val)\n",
    "    rmse_scores.append(score)\n",
    "\n",
    "# Step 5: Calculate standard deviation of RMSE scores\n",
    "std_rmse = np.std(rmse_scores)\n",
    "\n",
    "# Round the result to 3 decimal digits\n",
    "print(\"Standard deviation of RMSE scores:\", round(std_rmse, 3))"
   ]
  },
  {
   "cell_type": "code",
   "execution_count": 126,
   "id": "7af2e3c2-3e14-404c-9f1a-1931e6c1e4db",
   "metadata": {},
   "outputs": [
    {
     "name": "stdout",
     "output_type": "stream",
     "text": [
      "RMSE on the test dataset: 608.610278435354\n"
     ]
    }
   ],
   "source": [
    "#Question 6. RMSE on Test\n",
    "\n",
    "# Step 1: Split the data with seed 9 (60% train, 20% val, 20% test)\n",
    "seed = 9\n",
    "n = len(df)\n",
    "n_train = int(0.6 * n)\n",
    "n_val = int(0.2 * n)\n",
    "n_test = n - (n_train + n_val)\n",
    "\n",
    "np.random.seed(seed)\n",
    "idx = np.arange(n)\n",
    "np.random.shuffle(idx)\n",
    "\n",
    "df_shuffled = df.iloc[idx]\n",
    "\n",
    "df_train = df_shuffled.iloc[:n_train].copy()  # Create a copy\n",
    "df_val = df_shuffled.iloc[n_train:n_train+n_val].copy()  # Create a copy\n",
    "df_test = df_shuffled.iloc[n_train+n_val:].copy()  # Create a copy\n",
    "\n",
    "# Step 2: Combine train and validation datasets\n",
    "df_train_val = pd.concat([df_train, df_val], ignore_index=True)\n",
    "\n",
    "# Step 3: Fill missing values with 0\n",
    "df_train_val.fillna(0, inplace=True)  # This is safe since df_train_val is a copy\n",
    "df_test.fillna(0, inplace=True)  # This is safe since df_test is a copy\n",
    "\n",
    "# Step 4: Train the model with r=0.001\n",
    "r = 0.001\n",
    "w = regularized_linear_regression(df_train_val[base], df_train_val[target], r)\n",
    "\n",
    "# Step 5: Make predictions on the test dataset\n",
    "y_pred_test = w[0] + df_test[base].dot(w[1:])\n",
    "\n",
    "# Step 6: Calculate RMSE on the test dataset\n",
    "rmse_test = rmse(df_test[target], y_pred_test)\n",
    "\n",
    "# Print the RMSE on the test dataset\n",
    "print(\"RMSE on the test dataset:\", rmse_test)\n"
   ]
  },
  {
   "cell_type": "code",
   "execution_count": null,
   "id": "50a5fb47-21bb-45c4-8934-3209b39bb589",
   "metadata": {},
   "outputs": [],
   "source": []
  }
 ],
 "metadata": {
  "kernelspec": {
   "display_name": "Python 3 (ipykernel)",
   "language": "python",
   "name": "python3"
  },
  "language_info": {
   "codemirror_mode": {
    "name": "ipython",
    "version": 3
   },
   "file_extension": ".py",
   "mimetype": "text/x-python",
   "name": "python",
   "nbconvert_exporter": "python",
   "pygments_lexer": "ipython3",
   "version": "3.12.1"
  }
 },
 "nbformat": 4,
 "nbformat_minor": 5
}
